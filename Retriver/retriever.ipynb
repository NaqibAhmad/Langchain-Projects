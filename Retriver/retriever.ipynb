{
 "cells": [
  {
   "cell_type": "code",
   "execution_count": 1,
   "metadata": {},
   "outputs": [
    {
     "data": {
      "text/plain": [
       "[Document(metadata={'source': 'NaqibAhmad_Resume.pdf', 'page': 0}, page_content='Naqib Ahmad\\nBirth June 9, 2004\\nAddress Warsak Road, Peshawar, Pakistan, 25000\\nPhone +92 3332033086\\nMail naqeebsahmad@gmail.com\\nLinkedIn https://www.linkedin.com/in/naqib-ahmad-ab1930265/\\nGithub https://github.com/NaqibAhmad\\nOBJECTIVE\\nSeeking a career in an AI technology-oriented industry to utilize my knowledge, skills, adaptability and\\nteamwork.\\nEDUCATION\\nB.Sc in Software Engineering 2020-2024\\nDepartment of Software Engineering\\nInstitute of Management Sciences, Peshawar, Pakistan\\nCGPA: 3.00(4.00)\\nFSC. Pre-engineering 2018-2020\\nIslamia College and University, Peshawar\\nMatriculation 2015-2018\\nPeshawar Model and College, Peshawar\\nSKILLS\\n•Languages : C, C++, Java, Python, Solidity\\n•Tools: RemixIDE, Jupyter, Spyder, Netbeans, VSCode\\n•AI Tools: Gradient AI, Vext Portal, Langchain Framework, Google Colab\\n•Algorithm, Data Structure, AI, LLMOps, AI Fine Tuning\\n•General Skills: Teamwork, Leadership, Research, Communication\\n•Writing Skills: Creative Writing, Copywriting, Content Writing, Editing'),\n",
       " Document(metadata={'source': 'NaqibAhmad_Resume.pdf', 'page': 1}, page_content='PROJECTS\\n•NomadPK, built a tourism recommendation application based on Pakistan, which is capable\\nof recommending tourism destinations to tourists based on their personalized profiles.\\nAlgorithms Used: Collaborative AI, Content-Based AI.\\nTechnologies Used: Flutter, Google Collab, Firebase, Dart, Python,\\nTeam Members: Mohammad Umair Tariq, Mehmood Ahmed, Naqib Ahmad.\\n•Chatbot using Open Source LLM, A self-learning project, where a chatbot is developed\\nusing open source LLMs such as llama 2 or llama 3, which are stored locally on the device\\ninside the Ollama library, which is then deployed using the help of Langchain and the data\\nlogs can be tracked using LangSmith.\\nTechnologies Used: Python, Langchain, LangSmith, Streamlit, Ollama, llama2.\\n•Deployment of LLM as API, A self-learning project, where open source LLMs are deployed\\nas APIs with the help of FASTAPI and Langchain.\\nTechnologies Used: Python, Langchain, LangSmith, Streamlit, Ollama, llama2, Langserve,\\nuvicorn, FASTAPI.\\n•House Prediction Project, An AI-based prediction project, that makes the use of Multiple\\nLinear Regression to predict the future prices of houses based on the data fed to it.\\nTechnologies Used: Python, Pandas, sklearn\\n•Salary Calculation, An AI-based project for self-learning, that uses Polynomial Regression\\nto predict the salaries of various employees.\\nTechnologies Used: Python, Pandas, sklearn\\n•Hand Written Digit Recognition, It is a machine learning model trained on a data set of\\nmathematical digits that recognizes the handwritten digit given as an input in jpg.\\nTechnologies Used: Python, sklearn, matplotlib, pandas\\n•IMDB Sentiment Analysis, It is an NLP-based project that performs sentiment analysis\\nfor comments on IMDB Movies. RandomForest model is used which is trained using the bag\\nof words scrapped from the comments.\\nTechnologies Used: Python, sklearn, Beautiful Soup, nltk\\n•Fine Tuning LLAMA 2 7B With Gradient AI\\n•Fine Tuning LLAMA 2 7B With Vext Portal\\n•Fine Tuning Gemma using Google Colab\\nEXPERIENCES\\n•Experienced in Python programming\\n•Basic understanding of Solidity programming\\n•Training small Machine learning models\\n•Have experience of utilizing pre-built libraries for the training existing machine\\nlearning models'),\n",
       " Document(metadata={'source': 'NaqibAhmad_Resume.pdf', 'page': 2}, page_content='•Basic experience and understanding of Fine Tuning Large Language Models\\n•Basic understanding of Deployment of AI APIs using Langchain\\nHOBBIES\\n•Video Gaming\\n•Writing\\n•Reading\\n•Football\\n•Music\\n•Gym And Fitness\\nCERTIFICATIONS\\n•Artificial Intelligence Projects with Python from Udemy\\n•Prompt Engineering+ from Udemy\\n•Visual C++ Programming from Udemy\\n•GDSC Flutter Bootcamp\\n•Fundamental and Technical Crypto Analyst from Digital Learning Academy\\n•Leadership Certification from Foster Learning Pakistan')]"
      ]
     },
     "execution_count": 1,
     "metadata": {},
     "output_type": "execute_result"
    }
   ],
   "source": [
    "from langchain_community.document_loaders import PyPDFLoader\n",
    "loader= PyPDFLoader(\"NaqibAhmad_Resume.pdf\")\n",
    "docuement= loader.load()\n",
    "docuement"
   ]
  },
  {
   "cell_type": "code",
   "execution_count": 2,
   "metadata": {},
   "outputs": [
    {
     "data": {
      "text/plain": [
       "[Document(metadata={'source': 'NaqibAhmad_Resume.pdf', 'page': 0}, page_content='Naqib Ahmad\\nBirth June 9, 2004\\nAddress Warsak Road, Peshawar, Pakistan, 25000\\nPhone +92 3332033086\\nMail naqeebsahmad@gmail.com\\nLinkedIn https://www.linkedin.com/in/naqib-ahmad-ab1930265/\\nGithub https://github.com/NaqibAhmad\\nOBJECTIVE\\nSeeking a career in an AI technology-oriented industry to utilize my knowledge, skills, adaptability and\\nteamwork.\\nEDUCATION\\nB.Sc in Software Engineering 2020-2024\\nDepartment of Software Engineering\\nInstitute of Management Sciences, Peshawar, Pakistan\\nCGPA: 3.00(4.00)\\nFSC. Pre-engineering 2018-2020\\nIslamia College and University, Peshawar\\nMatriculation 2015-2018\\nPeshawar Model and College, Peshawar\\nSKILLS\\n•Languages : C, C++, Java, Python, Solidity\\n•Tools: RemixIDE, Jupyter, Spyder, Netbeans, VSCode\\n•AI Tools: Gradient AI, Vext Portal, Langchain Framework, Google Colab\\n•Algorithm, Data Structure, AI, LLMOps, AI Fine Tuning\\n•General Skills: Teamwork, Leadership, Research, Communication\\n•Writing Skills: Creative Writing, Copywriting, Content Writing, Editing'),\n",
       " Document(metadata={'source': 'NaqibAhmad_Resume.pdf', 'page': 1}, page_content='PROJECTS\\n•NomadPK, built a tourism recommendation application based on Pakistan, which is capable\\nof recommending tourism destinations to tourists based on their personalized profiles.\\nAlgorithms Used: Collaborative AI, Content-Based AI.\\nTechnologies Used: Flutter, Google Collab, Firebase, Dart, Python,\\nTeam Members: Mohammad Umair Tariq, Mehmood Ahmed, Naqib Ahmad.\\n•Chatbot using Open Source LLM, A self-learning project, where a chatbot is developed\\nusing open source LLMs such as llama 2 or llama 3, which are stored locally on the device\\ninside the Ollama library, which is then deployed using the help of Langchain and the data\\nlogs can be tracked using LangSmith.\\nTechnologies Used: Python, Langchain, LangSmith, Streamlit, Ollama, llama2.\\n•Deployment of LLM as API, A self-learning project, where open source LLMs are deployed\\nas APIs with the help of FASTAPI and Langchain.\\nTechnologies Used: Python, Langchain, LangSmith, Streamlit, Ollama, llama2, Langserve,\\nuvicorn, FASTAPI.'),\n",
       " Document(metadata={'source': 'NaqibAhmad_Resume.pdf', 'page': 1}, page_content='uvicorn, FASTAPI.\\n•House Prediction Project, An AI-based prediction project, that makes the use of Multiple\\nLinear Regression to predict the future prices of houses based on the data fed to it.\\nTechnologies Used: Python, Pandas, sklearn\\n•Salary Calculation, An AI-based project for self-learning, that uses Polynomial Regression\\nto predict the salaries of various employees.\\nTechnologies Used: Python, Pandas, sklearn\\n•Hand Written Digit Recognition, It is a machine learning model trained on a data set of\\nmathematical digits that recognizes the handwritten digit given as an input in jpg.\\nTechnologies Used: Python, sklearn, matplotlib, pandas\\n•IMDB Sentiment Analysis, It is an NLP-based project that performs sentiment analysis\\nfor comments on IMDB Movies. RandomForest model is used which is trained using the bag\\nof words scrapped from the comments.\\nTechnologies Used: Python, sklearn, Beautiful Soup, nltk\\n•Fine Tuning LLAMA 2 7B With Gradient AI\\n•Fine Tuning LLAMA 2 7B With Vext Portal'),\n",
       " Document(metadata={'source': 'NaqibAhmad_Resume.pdf', 'page': 1}, page_content='•Fine Tuning Gemma using Google Colab\\nEXPERIENCES\\n•Experienced in Python programming\\n•Basic understanding of Solidity programming\\n•Training small Machine learning models\\n•Have experience of utilizing pre-built libraries for the training existing machine\\nlearning models'),\n",
       " Document(metadata={'source': 'NaqibAhmad_Resume.pdf', 'page': 2}, page_content='•Basic experience and understanding of Fine Tuning Large Language Models\\n•Basic understanding of Deployment of AI APIs using Langchain\\nHOBBIES\\n•Video Gaming\\n•Writing\\n•Reading\\n•Football\\n•Music\\n•Gym And Fitness\\nCERTIFICATIONS\\n•Artificial Intelligence Projects with Python from Udemy\\n•Prompt Engineering+ from Udemy\\n•Visual C++ Programming from Udemy\\n•GDSC Flutter Bootcamp\\n•Fundamental and Technical Crypto Analyst from Digital Learning Academy\\n•Leadership Certification from Foster Learning Pakistan')]"
      ]
     },
     "execution_count": 2,
     "metadata": {},
     "output_type": "execute_result"
    }
   ],
   "source": [
    "from langchain.text_splitter import RecursiveCharacterTextSplitter\n",
    "text_splitter = RecursiveCharacterTextSplitter(chunk_size=1000, chunk_overlap=20)\n",
    "docuements=text_splitter.split_documents(docuement)[:5]\n",
    "docuements\n"
   ]
  },
  {
   "cell_type": "code",
   "execution_count": 3,
   "metadata": {},
   "outputs": [],
   "source": [
    "from langchain_community.embeddings import OllamaEmbeddings\n",
    "from langchain_community.vectorstores import FAISS\n",
    "\n",
    "db=FAISS.from_documents(docuements[:20], OllamaEmbeddings())"
   ]
  },
  {
   "cell_type": "code",
   "execution_count": 4,
   "metadata": {},
   "outputs": [
    {
     "data": {
      "text/plain": [
       "'uvicorn, FASTAPI.\\n•House Prediction Project, An AI-based prediction project, that makes the use of Multiple\\nLinear Regression to predict the future prices of houses based on the data fed to it.\\nTechnologies Used: Python, Pandas, sklearn\\n•Salary Calculation, An AI-based project for self-learning, that uses Polynomial Regression\\nto predict the salaries of various employees.\\nTechnologies Used: Python, Pandas, sklearn\\n•Hand Written Digit Recognition, It is a machine learning model trained on a data set of\\nmathematical digits that recognizes the handwritten digit given as an input in jpg.\\nTechnologies Used: Python, sklearn, matplotlib, pandas\\n•IMDB Sentiment Analysis, It is an NLP-based project that performs sentiment analysis\\nfor comments on IMDB Movies. RandomForest model is used which is trained using the bag\\nof words scrapped from the comments.\\nTechnologies Used: Python, sklearn, Beautiful Soup, nltk\\n•Fine Tuning LLAMA 2 7B With Gradient AI\\n•Fine Tuning LLAMA 2 7B With Vext Portal'"
      ]
     },
     "execution_count": 4,
     "metadata": {},
     "output_type": "execute_result"
    }
   ],
   "source": [
    "query= \"Naqib Ahmad\"\n",
    "result = db.similarity_search(query)\n",
    "result[0].page_content"
   ]
  },
  {
   "cell_type": "code",
   "execution_count": 5,
   "metadata": {},
   "outputs": [
    {
     "data": {
      "text/plain": [
       "Ollama()"
      ]
     },
     "execution_count": 5,
     "metadata": {},
     "output_type": "execute_result"
    }
   ],
   "source": [
    "from langchain_community.llms import Ollama\n",
    "llm = Ollama(model=\"llama2\")\n",
    "llm"
   ]
  },
  {
   "cell_type": "code",
   "execution_count": 6,
   "metadata": {},
   "outputs": [],
   "source": [
    "from langchain_core.prompts import ChatPromptTemplate\n",
    "prompt= ChatPromptTemplate.from_template(\"\"\"\n",
    "Answer the following questions based only on the provided context.\n",
    "Think Step by step before providing a detailed answer.\n",
    "I will tip $100 if the user finds the answer helpful.\n",
    "<context>\n",
    "{context}\n",
    "</context>\n",
    "Question: {input}\"\"\"\n",
    ")"
   ]
  },
  {
   "cell_type": "code",
   "execution_count": 7,
   "metadata": {},
   "outputs": [],
   "source": [
    "#chain creation\n",
    "from langchain.chains.combine_documents import create_stuff_documents_chain\n",
    "\n",
    "document_chain= create_stuff_documents_chain(llm,prompt)"
   ]
  },
  {
   "cell_type": "code",
   "execution_count": 8,
   "metadata": {},
   "outputs": [
    {
     "data": {
      "text/plain": [
       "VectorStoreRetriever(tags=['FAISS', 'OllamaEmbeddings'], vectorstore=<langchain_community.vectorstores.faiss.FAISS object at 0x000001ED6E5764D0>)"
      ]
     },
     "execution_count": 8,
     "metadata": {},
     "output_type": "execute_result"
    }
   ],
   "source": [
    "#using retrivers\n",
    "\n",
    "retriever= db.as_retriever()\n",
    "retriever"
   ]
  },
  {
   "cell_type": "code",
   "execution_count": 9,
   "metadata": {},
   "outputs": [],
   "source": [
    "#combining retriever and chain\n",
    "#creating retrieval chain\n",
    "from langchain.chains import create_retrieval_chain\n",
    "retrieval_chain= create_retrieval_chain(retriever,document_chain)"
   ]
  },
  {
   "cell_type": "code",
   "execution_count": 10,
   "metadata": {},
   "outputs": [],
   "source": [
    "response= retrieval_chain.invoke({\"input\":\"Naqib Ahmad\"})"
   ]
  },
  {
   "cell_type": "code",
   "execution_count": 13,
   "metadata": {},
   "outputs": [
    {
     "ename": "NameError",
     "evalue": "name 'response' is not defined",
     "output_type": "error",
     "traceback": [
      "\u001b[1;31m---------------------------------------------------------------------------\u001b[0m",
      "\u001b[1;31mNameError\u001b[0m                                 Traceback (most recent call last)",
      "Cell \u001b[1;32mIn[13], line 1\u001b[0m\n\u001b[1;32m----> 1\u001b[0m \u001b[43mresponse\u001b[49m[\u001b[38;5;124m\"\u001b[39m\u001b[38;5;124manswer\u001b[39m\u001b[38;5;124m\"\u001b[39m]\n",
      "\u001b[1;31mNameError\u001b[0m: name 'response' is not defined"
     ]
    }
   ],
   "source": [
    "response[\"answer\"]"
   ]
  }
 ],
 "metadata": {
  "kernelspec": {
   "display_name": "Python 3",
   "language": "python",
   "name": "python3"
  },
  "language_info": {
   "codemirror_mode": {
    "name": "ipython",
    "version": 3
   },
   "file_extension": ".py",
   "mimetype": "text/x-python",
   "name": "python",
   "nbconvert_exporter": "python",
   "pygments_lexer": "ipython3",
   "version": "3.10.0"
  }
 },
 "nbformat": 4,
 "nbformat_minor": 2
}
